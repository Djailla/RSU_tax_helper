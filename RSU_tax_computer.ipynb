{
 "cells": [
  {
   "cell_type": "code",
   "execution_count": 1,
   "id": "f895f361",
   "metadata": {
    "ExecuteTime": {
     "end_time": "2021-05-17T12:48:13.200331Z",
     "start_time": "2021-05-17T12:48:12.792710Z"
    }
   },
   "outputs": [],
   "source": [
    "import pandas as pd\n",
    "import datetime as datetime\n",
    "import numpy as np\n",
    "import copy\n",
    "from RSU_functions import * "
   ]
  },
  {
   "cell_type": "code",
   "execution_count": 2,
   "id": "2c6af22e",
   "metadata": {
    "ExecuteTime": {
     "end_time": "2021-05-17T12:48:13.209240Z",
     "start_time": "2021-05-17T12:48:13.202903Z"
    }
   },
   "outputs": [],
   "source": [
    "# If you want to change your marginal income tax (above 72k of taxable income, it is at 41%). Not really needed\n",
    "tax_info_dict = {'TMI_IR': 0.3, 'cotisation': 0.172, 'flat_tax_plus_value': 0.3}"
   ]
  },
  {
   "cell_type": "markdown",
   "id": "ba375a8d",
   "metadata": {},
   "source": [
    "# Put here all sales and vesting event from EquatePlus\n",
    "please put all event until end of 2020. If you have sales in 2019, either rely on the built in function or please du check yourself how you reported them before. If you sold everything you had in 2019, it will work, otherwise it will work too but I might link a sale with a vesting date you already declared as sold."
   ]
  },
  {
   "cell_type": "code",
   "execution_count": 3,
   "id": "0d1f61f6",
   "metadata": {
    "ExecuteTime": {
     "end_time": "2021-05-17T12:48:13.217103Z",
     "start_time": "2021-05-17T12:48:13.211064Z"
    }
   },
   "outputs": [],
   "source": [
    "\n",
    "vesting_event = [{'date':datetime.datetime(2019,12,13),'amount':225,'macron_law_id':0, 'event':'vesting'},\n",
    "                {'date':datetime.datetime(2020,3,13),'amount':28,'macron_law_id':0, 'event':'vesting'},\n",
    "                {'date':datetime.datetime(2020,6,15),'amount':29,'macron_law_id':0, 'event':'vesting'},\n",
    "                {'date':datetime.datetime(2020,9,14),'amount':28,'macron_law_id':0, 'event':'vesting'},\n",
    "                {'date':datetime.datetime(2020,12,14),'amount':28,'macron_law_id':0, 'event':'vesting'},\n",
    "                ]\n",
    "selling_event = [\n",
    "    {'date':datetime.datetime(2020,8,3),'amount':282, 'event':'sale'},\n",
    "    {'date':datetime.datetime(2020,12,16),'amount':56, 'event':'sale'}\n",
    "]"
   ]
  },
  {
   "cell_type": "markdown",
   "id": "911af39a",
   "metadata": {},
   "source": [
    "Computation occurs here, please just run these cells"
   ]
  },
  {
   "cell_type": "code",
   "execution_count": 4,
   "id": "b6ab3d31",
   "metadata": {
    "ExecuteTime": {
     "end_time": "2021-05-17T12:48:13.222148Z",
     "start_time": "2021-05-17T12:48:13.219392Z"
    }
   },
   "outputs": [],
   "source": [
    "all_events_sorted = sorted(vesting_event + selling_event, key = lambda k: k['date'])"
   ]
  },
  {
   "cell_type": "code",
   "execution_count": 5,
   "id": "2364e84d",
   "metadata": {
    "ExecuteTime": {
     "end_time": "2021-05-17T12:48:13.229318Z",
     "start_time": "2021-05-17T12:48:13.223915Z"
    },
    "code_folding": [],
    "scrolled": false
   },
   "outputs": [],
   "source": [
    "portfolio = {}\n",
    "portfolio['available_stock'] = []\n",
    "portfolio['sale_event_recap'] = []\n",
    "for event in all_events_sorted:\n",
    "    if event['event'] == 'vesting':\n",
    "        portfolio['available_stock'].append(copy.deepcopy(event))\n",
    "    if event['event'] == 'sale':\n",
    "        available_stock_after_transaction, sale_event_recap = get_sales_result(event, portfolio,\n",
    "                                                                               matching_method = get_sale_order_from_optionality)\n",
    "        portfolio['available_stock'] = available_stock_after_transaction\n",
    "        portfolio['sale_event_recap'].append(sale_event_recap)\n",
    "        "
   ]
  },
  {
   "cell_type": "markdown",
   "id": "f98da14a",
   "metadata": {},
   "source": [
    "# Results to put in your taxation returns\n",
    "Ici, toute les infos sont printer pour remplir le formulaire No 2074. \n",
    "pour 511 mettre Action criteo et equateplus.\n",
    "\n",
    "#En cas de moins value, toujours pas clair s il faut remplir avec un resultat negatif,\n",
    "ou sil faut remplir en changeant le 'prix ou valeur  d aquisition unitaire' et le mettre egal au prix de cession\n",
    "\n",
    "Rebate ne semblent pas applicables non plus. Please help"
   ]
  },
  {
   "cell_type": "code",
   "execution_count": 6,
   "id": "fd714588",
   "metadata": {
    "ExecuteTime": {
     "end_time": "2021-05-17T12:48:13.246922Z",
     "start_time": "2021-05-17T12:48:13.231256Z"
    },
    "scrolled": true
   },
   "outputs": [
    {
     "name": "stdout",
     "output_type": "stream",
     "text": [
      "\n",
      " ----------------NOUVELLE TRANSACTION ---------- \n",
      "\n",
      "date de la cession (513) 2020-08-03 00:00:00\n",
      "valeur unitaire de la cession (514) 11.572573767695719\n",
      "nombre de titres cedes (515) 28\n",
      "montant global (516 et 518) 324.03206549548014\n",
      "prix ou valeur acquisition unitaire (520) 7.47478386167147\n",
      "prix daquisition global (521 et 523) 209.29394812680115\n",
      "resultat 114.73811736867897\n",
      "vesting_amount_with_moins_value 209.29394812680115\n",
      "vesting_amount_with_moins_and_rebate 209.29394812680115\n",
      "plus_value_amount 114.73811736867897\n",
      "rebate 1\n",
      "tax 133.20817872645384\n",
      "\n",
      " ----------------NOUVELLE TRANSACTION ---------- \n",
      "\n",
      "date de la cession (513) 2020-08-03 00:00:00\n",
      "valeur unitaire de la cession (514) 11.572573767695719\n",
      "nombre de titres cedes (515) 29\n",
      "montant global (516 et 518) 335.60463926317584\n",
      "prix ou valeur acquisition unitaire (520) 10.868212920998845\n",
      "prix daquisition global (521 et 523) 315.1781747089665\n",
      "resultat 20.42646455420934\n",
      "vesting_amount_with_moins_value 315.1781747089665\n",
      "vesting_amount_with_moins_and_rebate 315.1781747089665\n",
      "plus_value_amount 20.42646455420934\n",
      "rebate 1\n",
      "tax 154.89203782889498\n",
      "\n",
      " ----------------NOUVELLE TRANSACTION ---------- \n",
      "\n",
      "date de la cession (513) 2020-08-03 00:00:00\n",
      "valeur unitaire de la cession (514) 11.572573767695719\n",
      "nombre de titres cedes (515) 225\n",
      "montant global (516 et 518) 2603.829097731537\n",
      "prix ou valeur acquisition unitaire (520) 15.32128154644711\n",
      "prix daquisition global (521 et 523) 3447.2883479506\n",
      "resultat -843.4592502190632\n",
      "vesting_amount_with_moins_value 2603.829097731537\n",
      "vesting_amount_with_moins_and_rebate 2603.829097731537\n",
      "plus_value_amount 0\n",
      "rebate 1\n",
      "tax 1229.0073341292853\n",
      "\n",
      " ----------------NOUVELLE TRANSACTION ---------- \n",
      "\n",
      "date de la cession (513) 2020-12-16 00:00:00\n",
      "valeur unitaire de la cession (514) 15.382722126507506\n",
      "nombre de titres cedes (515) 28\n",
      "montant global (516 et 518) 430.7162195422102\n",
      "prix ou valeur acquisition unitaire (520) 10.651734590771303\n",
      "prix daquisition global (521 et 523) 298.2485685415965\n",
      "resultat 132.46765100061367\n",
      "vesting_amount_with_moins_value 298.2485685415965\n",
      "vesting_amount_with_moins_and_rebate 298.2485685415965\n",
      "plus_value_amount 132.46765100061367\n",
      "rebate 1\n",
      "tax 180.51361965181763\n",
      "\n",
      " ----------------NOUVELLE TRANSACTION ---------- \n",
      "\n",
      "date de la cession (513) 2020-12-16 00:00:00\n",
      "valeur unitaire de la cession (514) 15.382722126507506\n",
      "nombre de titres cedes (515) 28\n",
      "montant global (516 et 518) 430.7162195422102\n",
      "prix ou valeur acquisition unitaire (520) 15.62243052129584\n",
      "prix daquisition global (521 et 523) 437.4280545962835\n",
      "resultat -6.711835054073347\n",
      "vesting_amount_with_moins_value 430.7162195422102\n",
      "vesting_amount_with_moins_and_rebate 430.7162195422102\n",
      "plus_value_amount 0\n",
      "rebate 1\n",
      "tax 203.29805562392318\n"
     ]
    }
   ],
   "source": [
    "\n",
    "tax = 0\n",
    "Capital_gain = 0\n",
    "vesting_gain_after_rebate = 0\n",
    "vesting_gain_before_rebate = 0\n",
    "total_selling_price = 0\n",
    "for event in portfolio['sale_event_recap']:\n",
    "    for ev in event:\n",
    "        if ev['date de la cession (513)'].year ==2020:\n",
    "            print('\\n ----------------NOUVELLE TRANSACTION ---------- \\n')\n",
    "            for key, value in ev.items():\n",
    "                print(  key, value)\n",
    "            tax +=ev['tax']\n",
    "            Capital_gain += ev['plus_value_amount']\n",
    "            vesting_gain_after_rebate += ev['vesting_amount_with_moins_and_rebate']\n",
    "            vesting_gain_before_rebate += ev['vesting_amount_with_moins_value']\n",
    "            total_selling_price += ev['montant global (516 et 518)']\n",
    "        \n"
   ]
  },
  {
   "cell_type": "code",
   "execution_count": 7,
   "id": "e3c44ccc",
   "metadata": {
    "ExecuteTime": {
     "end_time": "2021-05-17T12:48:13.253857Z",
     "start_time": "2021-05-17T12:48:13.248264Z"
    }
   },
   "outputs": [
    {
     "name": "stdout",
     "output_type": "stream",
     "text": [
      "fill 1TZ, form 2042 C with  3857.266008651111\n",
      "fill 1UZ , form 2042 C with the rebate in euro (might not be exactly how its done...) 0.0\n",
      "fill 3VG , form 2042 C with capital gain 267.632232923502\n",
      "You sold for 4124.9 this amount of stocks\n",
      "You will pay around  1900.92 this amount of tax, sorry\n"
     ]
    }
   ],
   "source": [
    "if vesting_gain_after_rebate > 300000:\n",
    "    print('fill 1TT, form 2042 C with ', vesting_gain_after_rebate - 300000 )\n",
    "print('fill 1TZ, form 2042 C with ', vesting_gain_after_rebate)\n",
    "print('fill 1UZ , form 2042 C with the rebate in euro (might not be exactly how its done...)', vesting_gain_before_rebate-vesting_gain_after_rebate )\n",
    "print('fill 3VG , form 2042 C with capital gain', Capital_gain )\n",
    "\n",
    "print('You sold for {} this amount of stocks'.format(np.round(total_selling_price,2)))\n",
    "print('You will pay around  {} this amount of tax, sorry'.format(np.round(tax ,2)))"
   ]
  },
  {
   "cell_type": "code",
   "execution_count": null,
   "id": "980c0080",
   "metadata": {},
   "outputs": [],
   "source": []
  },
  {
   "cell_type": "code",
   "execution_count": null,
   "id": "8186d800",
   "metadata": {},
   "outputs": [],
   "source": []
  }
 ],
 "metadata": {
  "hide_input": false,
  "kernelspec": {
   "display_name": "Python Criteo (MOAB #41780)",
   "language": "python",
   "name": "python-kernel-41780"
  },
  "language_info": {
   "codemirror_mode": {
    "name": "ipython",
    "version": 3
   },
   "file_extension": ".py",
   "mimetype": "text/x-python",
   "name": "python",
   "nbconvert_exporter": "python",
   "pygments_lexer": "ipython3",
   "version": "3.6.8"
  },
  "toc": {
   "base_numbering": 1,
   "nav_menu": {},
   "number_sections": true,
   "sideBar": true,
   "skip_h1_title": false,
   "title_cell": "Table of Contents",
   "title_sidebar": "Contents",
   "toc_cell": false,
   "toc_position": {},
   "toc_section_display": true,
   "toc_window_display": false
  }
 },
 "nbformat": 4,
 "nbformat_minor": 5
}
