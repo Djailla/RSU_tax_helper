{
 "cells": [
  {
   "cell_type": "code",
   "execution_count": 1,
   "id": "de2c6c96",
   "metadata": {
    "ExecuteTime": {
     "end_time": "2021-05-17T16:11:18.921217Z",
     "start_time": "2021-05-17T16:11:18.513274Z"
    }
   },
   "outputs": [],
   "source": [
    "import pandas as pd\n",
    "import datetime as datetime\n",
    "import numpy as np\n",
    "import copy\n",
    "from RSU_functions import * "
   ]
  },
  {
   "cell_type": "code",
   "execution_count": 2,
   "id": "607ad81f",
   "metadata": {
    "ExecuteTime": {
     "end_time": "2021-05-17T16:11:18.928915Z",
     "start_time": "2021-05-17T16:11:18.923549Z"
    }
   },
   "outputs": [],
   "source": [
    "# If you want to change your marginal income tax (above 72k of taxable income, it is at 41%). Not really needed\n",
    "tax_info_dict = {'TMI_IR': 0.3, 'cotisation': 0.172, 'flat_tax_plus_value': 0.3, 'deductible_csg':0.0680}"
   ]
  },
  {
   "cell_type": "markdown",
   "id": "119312d9",
   "metadata": {},
   "source": [
    "# Put here all sales and vesting event from EquatePlus\n",
    "please put all event until end of 2020, including sales / vesting from before (other years). If you have sales in 2019, either rely on the built in function or please du check yourself how you reported them before. \n",
    "\n",
    "If you sold everything you had at one point, before 2019 then you can put only vesting and transaction after this big sale event.\n",
    "\n",
    "If you sold everything in 2019, please put all information in 2019 and even before if you want the CSG rebate computation, if you don't, you may start with all events starting after this \"big sales\""
   ]
  },
  {
   "cell_type": "code",
   "execution_count": 3,
   "id": "3d7aa3f3",
   "metadata": {
    "ExecuteTime": {
     "end_time": "2021-05-17T16:11:18.936672Z",
     "start_time": "2021-05-17T16:11:18.930518Z"
    }
   },
   "outputs": [],
   "source": [
    "\n",
    "vesting_event = [{'date':datetime.datetime(2019,12,13),'amount':225,'macron_law_id':0, 'event':'vesting'},\n",
    "                {'date':datetime.datetime(2020,3,13),'amount':28,'macron_law_id':0, 'event':'vesting'},\n",
    "                {'date':datetime.datetime(2020,6,15),'amount':29,'macron_law_id':0, 'event':'vesting'},\n",
    "                {'date':datetime.datetime(2020,9,14),'amount':28,'macron_law_id':0, 'event':'vesting'},\n",
    "                {'date':datetime.datetime(2020,12,14),'amount':28,'macron_law_id':0, 'event':'vesting'},\n",
    "                ]\n",
    "selling_event = [\n",
    "    {'date':datetime.datetime(2020,8,3),'amount':282, 'event':'sale'},\n",
    "    {'date':datetime.datetime(2020,12,16),'amount':56, 'event':'sale'}\n",
    "]"
   ]
  },
  {
   "cell_type": "markdown",
   "id": "f185a21f",
   "metadata": {},
   "source": [
    "Computation occurs here, please just run these cells"
   ]
  },
  {
   "cell_type": "code",
   "execution_count": 4,
   "id": "32c53a90",
   "metadata": {
    "ExecuteTime": {
     "end_time": "2021-05-17T16:11:18.941234Z",
     "start_time": "2021-05-17T16:11:18.938444Z"
    }
   },
   "outputs": [],
   "source": [
    "all_events_sorted = sorted(vesting_event + selling_event, key = lambda k: k['date'])"
   ]
  },
  {
   "cell_type": "code",
   "execution_count": 5,
   "id": "754eff22",
   "metadata": {
    "ExecuteTime": {
     "end_time": "2021-05-17T16:11:18.948667Z",
     "start_time": "2021-05-17T16:11:18.942978Z"
    },
    "code_folding": [],
    "scrolled": false
   },
   "outputs": [],
   "source": [
    "portfolio = {}\n",
    "portfolio['available_stock'] = []\n",
    "portfolio['sale_event_recap'] = []\n",
    "for event in all_events_sorted:\n",
    "    if event['event'] == 'vesting':\n",
    "        portfolio['available_stock'].append(copy.deepcopy(event))\n",
    "    if event['event'] == 'sale':\n",
    "        available_stock_after_transaction, sale_event_recap = get_sales_result(event, portfolio,\n",
    "                                                                               matching_method = get_sale_order_from_optionality)\n",
    "        portfolio['available_stock'] = available_stock_after_transaction\n",
    "        portfolio['sale_event_recap'].append(sale_event_recap)\n",
    "        "
   ]
  },
  {
   "cell_type": "markdown",
   "id": "661e0304",
   "metadata": {},
   "source": [
    "# Results to put in your taxation returns\n",
    "Ici, toute les infos sont printer pour remplir le formulaire No 2074. \n",
    "pour 511 mettre Action criteo et equateplus.\n",
    "Vesting amount with moins value, rebate etc... are for debugging purposes, please look if they make sense."
   ]
  },
  {
   "cell_type": "code",
   "execution_count": 6,
   "id": "01064314",
   "metadata": {
    "ExecuteTime": {
     "end_time": "2021-05-17T16:11:18.968301Z",
     "start_time": "2021-05-17T16:11:18.951151Z"
    },
    "scrolled": true
   },
   "outputs": [
    {
     "name": "stdout",
     "output_type": "stream",
     "text": [
      "\n",
      " ----------------NOUVELLE TRANSACTION ---------- \n",
      "\n",
      "date de la cession (513) 2020-08-03 00:00:00\n",
      "valeur unitaire de la cession (514) 11.572573767695719\n",
      "nombre de titres cedes (515) 28\n",
      "montant global (516 et 518) 324.03206549548014\n",
      "prix ou valeur acquisition unitaire (520) 7.47478386167147\n",
      "prix daquisition global (521 et 523) 209.29394812680115\n",
      "resultat 114.73811736867897\n",
      "vesting_amount_with_moins_value 209.29394812680115\n",
      "rebate_without_moins_value 0.0\n",
      "rebate 0\n",
      "tax 133.20817872645384\n",
      "\n",
      " ----------------NOUVELLE TRANSACTION ---------- \n",
      "\n",
      "date de la cession (513) 2020-08-03 00:00:00\n",
      "valeur unitaire de la cession (514) 11.572573767695719\n",
      "nombre de titres cedes (515) 29\n",
      "montant global (516 et 518) 335.60463926317584\n",
      "prix ou valeur acquisition unitaire (520) 10.868212920998845\n",
      "prix daquisition global (521 et 523) 315.1781747089665\n",
      "resultat 20.42646455420934\n",
      "vesting_amount_with_moins_value 315.1781747089665\n",
      "rebate_without_moins_value 0.0\n",
      "rebate 0\n",
      "tax 154.89203782889498\n",
      "\n",
      " ----------------NOUVELLE TRANSACTION ---------- \n",
      "\n",
      "date de la cession (513) 2020-08-03 00:00:00\n",
      "valeur unitaire de la cession (514) 11.572573767695719\n",
      "nombre de titres cedes (515) 225\n",
      "montant global (516 et 518) 2603.829097731537\n",
      "prix ou valeur acquisition unitaire (520) 15.32128154644711\n",
      "prix daquisition global (521 et 523) 3447.2883479506\n",
      "resultat -843.4592502190632\n",
      "vesting_amount_with_moins_value 2603.829097731537\n",
      "rebate_without_moins_value 0.0\n",
      "rebate 0\n",
      "tax 1229.0073341292853\n",
      "\n",
      " ----------------NOUVELLE TRANSACTION ---------- \n",
      "\n",
      "date de la cession (513) 2020-12-16 00:00:00\n",
      "valeur unitaire de la cession (514) 15.382722126507506\n",
      "nombre de titres cedes (515) 28\n",
      "montant global (516 et 518) 430.7162195422102\n",
      "prix ou valeur acquisition unitaire (520) 10.651734590771303\n",
      "prix daquisition global (521 et 523) 298.2485685415965\n",
      "resultat 132.46765100061367\n",
      "vesting_amount_with_moins_value 298.2485685415965\n",
      "rebate_without_moins_value 0.0\n",
      "rebate 0\n",
      "tax 180.51361965181763\n",
      "\n",
      " ----------------NOUVELLE TRANSACTION ---------- \n",
      "\n",
      "date de la cession (513) 2020-12-16 00:00:00\n",
      "valeur unitaire de la cession (514) 15.382722126507506\n",
      "nombre de titres cedes (515) 28\n",
      "montant global (516 et 518) 430.7162195422102\n",
      "prix ou valeur acquisition unitaire (520) 15.62243052129584\n",
      "prix daquisition global (521 et 523) 437.4280545962835\n",
      "resultat -6.711835054073347\n",
      "vesting_amount_with_moins_value 430.7162195422102\n",
      "rebate_without_moins_value 0.0\n",
      "rebate 0\n",
      "tax 203.29805562392318\n"
     ]
    }
   ],
   "source": [
    "tax = 0\n",
    "Capital_gain_or_loss = 0\n",
    "vesting_gain_before_rebate_and_moins_value = 0\n",
    "rebate_amount = 0\n",
    "total_selling_price = 0\n",
    "csg_rebate = 0\n",
    "Capital_gain_or_loss_2019 = 0\n",
    "rebate_amount_2019 = 0\n",
    "vesting_gain_before_rebate_and_moins_value_2019 = 0\n",
    "for event in portfolio['sale_event_recap']:\n",
    "    for ev in event:            \n",
    "        if ev['date de la cession (513)'].year ==2020:\n",
    "            print('\\n ----------------NOUVELLE TRANSACTION ---------- \\n')\n",
    "            for key, value in ev.items():\n",
    "                print(  key, value)\n",
    "            tax +=ev['tax']\n",
    "            Capital_gain_or_loss += ev['resultat']\n",
    "            rebate_amount += ev['rebate_without_moins_value']\n",
    "            vesting_gain_before_rebate_and_moins_value += ev['prix daquisition global (521 et 523)']\n",
    "            total_selling_price += ev['montant global (516 et 518)']\n",
    "            \n",
    "        if ev['date de la cession (513)'].year ==2019:\n",
    "            #here it is to compute CSG than can be dedudected from last year, box 6DE. Only what is \n",
    "            # subject to IR can be deducted, hence only the  vesting amount after rebate and moins value\n",
    "            #will be deductible\n",
    "            Capital_gain_or_loss_2019 += ev['resultat']\n",
    "            rebate_amount_2019 += ev['rebate_without_moins_value']\n",
    "            vesting_gain_before_rebate_and_moins_value_2019 += ev['prix daquisition global (521 et 523)']\n",
    "        \n"
   ]
  },
  {
   "cell_type": "markdown",
   "id": "afa3c2cd",
   "metadata": {},
   "source": [
    "Normally here you should have automatically computed the sum of \"plus or moins value\", and it should be equal to the value printed in the cell below. Using the overall plus ou moins value, then I will be able to remove it from the vesting price to reduce overall tax burden if negative. \n",
    "If there is a rebate, I uniformly apply the rebate to the vesting gain with the moins value."
   ]
  },
  {
   "cell_type": "code",
   "execution_count": 7,
   "id": "5a765b12",
   "metadata": {
    "ExecuteTime": {
     "end_time": "2021-05-17T16:11:18.972445Z",
     "start_time": "2021-05-17T16:11:18.969698Z"
    }
   },
   "outputs": [
    {
     "name": "stdout",
     "output_type": "stream",
     "text": [
      "The total capital gain or loss is -582.5388523496347\n"
     ]
    }
   ],
   "source": [
    "print('The total capital gain or loss is {}'.format(Capital_gain_or_loss))"
   ]
  },
  {
   "cell_type": "code",
   "execution_count": 8,
   "id": "c6ee6655",
   "metadata": {
    "ExecuteTime": {
     "end_time": "2021-05-17T16:11:18.977927Z",
     "start_time": "2021-05-17T16:11:18.974150Z"
    }
   },
   "outputs": [],
   "source": [
    "if Capital_gain_or_loss >0:\n",
    "    vesting_gain_after_rebate_and_moins_value = vesting_gain_before_rebate_and_moins_value - rebate_amount\n",
    "    total_tax_to_pay_approx = vesting_gain_after_rebate_and_moins_value * (tax_info_dict['TMI_IR'] + tax_info_dict[\n",
    "            'cotisation']) + Capital_gain_or_loss * tax_info_dict[\n",
    "                         'flat_tax_plus_value']\n",
    "    rebate = rebate_amount\n",
    "else:\n",
    "    rebate_percent = rebate_amount / vesting_gain_before_rebate_and_moins_value\n",
    "    vesting_gain_after_rebate_and_moins_value = (vesting_gain_before_rebate_and_moins_value + Capital_gain_or_loss) * (1-rebate_percent)\n",
    "    rebate = (vesting_gain_before_rebate_and_moins_value + Capital_gain_or_loss) * (rebate_percent)\n",
    "    total_tax_to_pay_approx = vesting_gain_after_rebate_and_moins_value * (tax_info_dict['TMI_IR'] + tax_info_dict[\n",
    "            'cotisation'])"
   ]
  },
  {
   "cell_type": "code",
   "execution_count": 9,
   "id": "48ea4de5",
   "metadata": {
    "ExecuteTime": {
     "end_time": "2021-05-17T16:11:18.998940Z",
     "start_time": "2021-05-17T16:11:18.979314Z"
    }
   },
   "outputs": [
    {
     "name": "stdout",
     "output_type": "stream",
     "text": [
      "fill 1TZ, form 2042 C with  4124.898241574613\n",
      "fill 1UZ , form 2042 C with the rebate in euro 0.0\n",
      "fill 3VG , form 2042 C with capital gain 0\n",
      "fill 3VG , form 2042 C with capital loss -582.5388523496347\n",
      "You sold for 4124.9 this amount of stocks\n",
      "You will pay around  1946.95 this amount of tax, sorry\n"
     ]
    }
   ],
   "source": [
    "if vesting_gain_after_rebate_and_moins_value > 300000:\n",
    "    print('fill 1TT, form 2042 C with ', vesting_gain_after_rebate_and_moins_value - 300000 )\n",
    "print('fill 1TZ, form 2042 C with ', vesting_gain_after_rebate_and_moins_value)\n",
    "print('fill 1UZ , form 2042 C with the rebate in euro', rebate )\n",
    "print('fill 3VG , form 2042 C with capital gain', max(0,Capital_gain_or_loss) )\n",
    "print('fill 3VG , form 2042 C with capital loss', min(0,Capital_gain_or_loss) )\n",
    "\n",
    "\n",
    "print('You sold for {} this amount of stocks'.format(np.round(total_selling_price,2)))\n",
    "print('You will pay around  {} this amount of tax, sorry'.format(np.round(total_tax_to_pay_approx ,2)))"
   ]
  },
  {
   "cell_type": "markdown",
   "id": "2dd6ba80",
   "metadata": {},
   "source": [
    "# CSG deduction from previous year (2019)"
   ]
  },
  {
   "cell_type": "markdown",
   "id": "1a47c511",
   "metadata": {},
   "source": [
    "If you ahve your previous tax filling, it should be equal to your 1TZ case of last year times the deductible CSG, which is at 6.8%. If you don't, you can use this, should work"
   ]
  },
  {
   "cell_type": "code",
   "execution_count": 10,
   "id": "fdb19f98",
   "metadata": {
    "ExecuteTime": {
     "end_time": "2021-05-17T16:11:19.004924Z",
     "start_time": "2021-05-17T16:11:19.000346Z"
    }
   },
   "outputs": [
    {
     "name": "stdout",
     "output_type": "stream",
     "text": [
      "sorry, no CSG to be deducted for this year!\n"
     ]
    }
   ],
   "source": [
    "if vesting_gain_before_rebate_and_moins_value_2019 ==0:\n",
    "    print('sorry, no CSG to be deducted for this year!')\n",
    "    vesting_gain_after_rebate_and_moins_value_2019 =0\n",
    "else:\n",
    "    if Capital_gain_or_loss_2019 >0:\n",
    "        vesting_gain_after_rebate_and_moins_value_2019 = vesting_gain_before_rebate_and_moins_value_2019 - rebate_amount_2019\n",
    "        deductible_csg = vesting_gain_after_rebate_and_moins_value_2019 * tax_info_dict['deductible_csg']\n",
    "    else:\n",
    "        rebate_percent_2019 = rebate_amount_2019 / vesting_gain_after_rebate_and_moins_value_2019\n",
    "        vesting_gain_after_rebate_and_moins_value_2019 = vesting_gain_before_rebate_and_moins_value_2019 - rebate_amount_2019 * (1-rebate_percent_2019)\n",
    "        deductible_csg = vesting_gain_after_rebate_and_moins_value_2019 * tax_info_dict['deductible_csg']"
   ]
  },
  {
   "cell_type": "code",
   "execution_count": 11,
   "id": "a42629e8",
   "metadata": {
    "ExecuteTime": {
     "end_time": "2021-05-17T16:11:19.009847Z",
     "start_time": "2021-05-17T16:11:19.006777Z"
    }
   },
   "outputs": [
    {
     "name": "stdout",
     "output_type": "stream",
     "text": [
      "fill box 6DE 0\n"
     ]
    }
   ],
   "source": [
    "print('fill box 6DE', vesting_gain_after_rebate_and_moins_value_2019)"
   ]
  },
  {
   "cell_type": "code",
   "execution_count": null,
   "id": "b76bd17a",
   "metadata": {},
   "outputs": [],
   "source": []
  }
 ],
 "metadata": {
  "hide_input": false,
  "kernelspec": {
   "display_name": "Python Criteo (MOAB #41780)",
   "language": "python",
   "name": "python-kernel-41780"
  },
  "language_info": {
   "codemirror_mode": {
    "name": "ipython",
    "version": 3
   },
   "file_extension": ".py",
   "mimetype": "text/x-python",
   "name": "python",
   "nbconvert_exporter": "python",
   "pygments_lexer": "ipython3",
   "version": "3.6.8"
  },
  "toc": {
   "base_numbering": 1,
   "nav_menu": {},
   "number_sections": true,
   "sideBar": true,
   "skip_h1_title": false,
   "title_cell": "Table of Contents",
   "title_sidebar": "Contents",
   "toc_cell": false,
   "toc_position": {},
   "toc_section_display": true,
   "toc_window_display": false
  }
 },
 "nbformat": 4,
 "nbformat_minor": 5
}
